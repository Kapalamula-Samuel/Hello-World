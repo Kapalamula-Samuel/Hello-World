{
  "nbformat": 4,
  "nbformat_minor": 0,
  "metadata": {
    "colab": {
      "provenance": [],
      "gpuType": "T4",
      "mount_file_id": "1x3-dg3QEJ6BV055WGEZB2gJqP8QmmpBZ",
      "authorship_tag": "ABX9TyNg1TteVZkDxuyUkBZ77P2g",
      "include_colab_link": true
    },
    "kernelspec": {
      "name": "python3",
      "display_name": "Python 3"
    },
    "language_info": {
      "name": "python"
    },
    "accelerator": "GPU"
  },
  "cells": [
    {
      "cell_type": "markdown",
      "metadata": {
        "id": "view-in-github",
        "colab_type": "text"
      },
      "source": [
        "<a href=\"https://colab.research.google.com/github/Kapalamula-Samuel/Hello-World/blob/main/New.ipynb\" target=\"_parent\"><img src=\"https://colab.research.google.com/assets/colab-badge.svg\" alt=\"Open In Colab\"/></a>"
      ]
    },
    {
      "cell_type": "code",
      "execution_count": 1,
      "metadata": {
        "colab": {
          "base_uri": "https://localhost:8080/"
        },
        "id": "oM-5dZSlZoAQ",
        "outputId": "948fe793-45e5-4126-a78c-aba42b2fa1c8"
      },
      "outputs": [
        {
          "output_type": "stream",
          "name": "stdout",
          "text": [
            "Hello, Wolrd\n"
          ]
        }
      ],
      "source": [
        "print(\"Hello, Wolrd\")"
      ]
    },
    {
      "cell_type": "code",
      "source": [
        "name = input(\"What is your name?\")"
      ],
      "metadata": {
        "colab": {
          "base_uri": "https://localhost:8080/"
        },
        "id": "oH6jHzQXa7C-",
        "outputId": "9ea19d3c-bfe5-479d-bc76-1050c6b64b9c"
      },
      "execution_count": 2,
      "outputs": [
        {
          "name": "stdout",
          "output_type": "stream",
          "text": [
            "What is your name?samu\n"
          ]
        }
      ]
    }
  ]
}